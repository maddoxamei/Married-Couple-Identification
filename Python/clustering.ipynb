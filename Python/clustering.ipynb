{
 "cells": [
  {
   "cell_type": "markdown",
   "id": "8bb0fa0c-398d-41d4-a565-12c09834e22f",
   "metadata": {},
   "source": [
    "# Clustering"
   ]
  },
  {
   "cell_type": "code",
   "execution_count": 24,
   "id": "dfba49fb-993e-4578-8eca-70d4b25b2996",
   "metadata": {},
   "outputs": [],
   "source": [
    "import pandas as pd\n",
    "import numpy as np\n",
    "import matplotlib as mpl\n",
    "import matplotlib.pyplot as plt\n",
    "from sklearn.metrics import silhouette_score\n",
    "\n",
    "encoded_females_sep = pd.read_csv('data/encoded_females_sep.csv',index_col='customer_id')\n",
    "encoded_males_sep = pd.read_csv('data/encoded_males_sep.csv',index_col='customer_id')\n",
    "encoded_females_joint = pd.read_csv('data/encoded_females_joint.csv',index_col='customer_id')\n",
    "encoded_males_joint = pd.read_csv('data/encoded_males_joint.csv',index_col='customer_id')\n",
    "\n",
    "females = pd.read_csv('data/females.csv',index_col='customer_id')\n",
    "males = pd.read_csv('data/males.csv',index_col='customer_id')"
   ]
  },
  {
   "cell_type": "code",
   "execution_count": 25,
   "id": "6d7f0fd1-d3fe-4bd7-8396-1e5e9aa1a9b4",
   "metadata": {},
   "outputs": [],
   "source": [
    "from sklearn.cluster import KMeans\n",
    "k = 6\n",
    "random_state=42\n",
    "kmeans = KMeans(n_clusters=k, random_state=random_state)"
   ]
  },
  {
   "cell_type": "code",
   "execution_count": 26,
   "id": "76c08bc4-e32d-4a28-a99c-2c77226fec34",
   "metadata": {},
   "outputs": [],
   "source": [
    "from sklearn.cluster import AgglomerativeClustering\n",
    "n_clusters = 10\n",
    "linkage = 'ward'\n",
    "agglom = AgglomerativeClustering(n_clusters = n_clusters,linkage=linkage)"
   ]
  },
  {
   "cell_type": "markdown",
   "id": "615de70c-31b9-46d7-85f8-7afa0813b495",
   "metadata": {},
   "source": [
    "# Training"
   ]
  },
  {
   "cell_type": "code",
   "execution_count": 51,
   "id": "a6ff64d4-c60d-41ee-855a-d525cd2b7985",
   "metadata": {},
   "outputs": [
    {
     "data": {
      "text/plain": [
       "array([    1,     2,     6, ..., 13360, 13362, 13363])"
      ]
     },
     "execution_count": 51,
     "metadata": {},
     "output_type": "execute_result"
    }
   ],
   "source": [
    "np.unique(kmeans.labels_)\n",
    "np.where(kmeans.labels_ == 4)[0]\n",
    "#females.iloc[np.where(kmeans.labels_ == 4,kmeans.labels_,None) ,:]\n",
    "#females.shape,encoded_females_sep.shape, np.where(kmeans.labels_ == 4)"
   ]
  },
  {
   "cell_type": "code",
   "execution_count": 53,
   "id": "cb67764f-f8e8-4e17-98c5-8cb96e394f69",
   "metadata": {},
   "outputs": [],
   "source": [
    "kmeans.fit_predict(encoded_females_sep)\n",
    "female_sep_labels = kmeans.labels_\n",
    "female_sep_centroids = np.array([females.iloc[np.where(kmeans.labels_ == c)[0],:].mean(axis=0) for c in range(k)])\n",
    "female_sep_centroids = pd.DataFrame(female_sep_centroids, columns = females.columns)\n",
    "\n",
    "kmeans.fit_predict(encoded_males_sep)\n",
    "male_sep_labels = kmeans.labels_\n",
    "male_sep_centroids = np.array([males.iloc[np.where(kmeans.labels_ == c)[0],:].mean(axis=0) for c in range(k)])\n",
    "male_sep_centroids = pd.DataFrame(male_sep_centroids, columns = males.columns)\n",
    "\n",
    "kmeans.fit_predict(encoded_females_joint)\n",
    "female_joint_labels = kmeans.labels_\n",
    "female_joint_centroids = np.array([females.iloc[np.where(kmeans.labels_ == c)[0],:].mean(axis=0) for c in range(k)])\n",
    "female_joint_centroids = pd.DataFrame(female_joint_centroids, columns = females.columns)\n",
    "\n",
    "kmeans.fit_predict(encoded_males_joint)\n",
    "male_joint_labels = kmeans.labels_\n",
    "male_joint_centroids = np.array([males.iloc[np.where(kmeans.labels_ == c)[0],:].mean(axis=0) for c in range(k)])\n",
    "male_joint_centroids = pd.DataFrame(male_joint_centroids, columns = males.columns)"
   ]
  },
  {
   "cell_type": "code",
   "execution_count": null,
   "id": "262479bb-02a2-4b9a-b022-2f55c1319769",
   "metadata": {},
   "outputs": [],
   "source": [
    "agglom.fit(encoded_females_sep)\n",
    "agglom_female_sep_labels = agglom.labels_\n",
    "agglom_female_sep_centroids = np.array([females.iloc[np.where(agglom.labels_ == c)[0],:].mean(axis=0) for c in range(k)])\n",
    "agglom_female_sep_centroids = pd.DataFrame(female_sep_centroids, columns = females.columns)\n",
    "\n",
    "agglom.fit(encoded_males_sep)\n",
    "agglom_male_sep_centroids = np.array([males.iloc[np.where(agglom.labels_ == c)[0],:].mean(axis=0) for c in range(k)])\n",
    "agglom_male_sep_centroids = pd.DataFrame(male_sep_centroids, columns = males.columns)\n",
    "\n",
    "agglom.fit(encoded_females_joint)\n",
    "agglom_female_joint_centroids = np.array([females.iloc[np.where(agglom.labels_ == c)[0],:].mean(axis=0) for c in range(k)])\n",
    "agglom_female_joint_centroids = pd.DataFrame(female_joint_centroids, columns = females.columns)\n",
    "\n",
    "agglom.fit(encoded_males_joint)\n",
    "agglom_male_joint_centroids = np.array([males.iloc[np.where(agglom.labels_ == c)[0],:].mean(axis=0) for c in range(k)])\n",
    "agglom_male_joint_centroids = pd.DataFrame(male_joint_centroids, columns = males.columns)"
   ]
  },
  {
   "cell_type": "markdown",
   "id": "5e8d88a0-5b1f-4ae2-8204-21e97bfdfc4a",
   "metadata": {},
   "source": [
    "# Rough Check of Fit"
   ]
  },
  {
   "cell_type": "code",
   "execution_count": null,
   "id": "a866984a-f612-46c2-95cb-0f92dee04715",
   "metadata": {},
   "outputs": [],
   "source": [
    "print('k-means:', silhouette_score(encoded_females_sep, encoded_females_sep_labels), k)\n",
    "print('k-means:', silhouette_score(encoded_males_sep, encoded_males_sep_labels), k)\n",
    "print('k-means:', silhouette_score(encoded_females_joint, encoded_females_joint_labels), k)\n",
    "print('k-means:', silhouette_score(encoded_males_joint, encoded_males_joint_labels), k)\n",
    "#print('Agglomerative:', silhouette_score(encoded_females_sep, agglom.labels_))\n",
    "#print('Agglomerative:', silhouette_score(encoded_males_sep, agglom.labels_))\n",
    "#print('Agglomerative:', silhouette_score(encoded_females_joint, agglom.labels_))\n",
    "#print('Agglomerative:', silhouette_score(encoded_males_joint, agglom.labels_))"
   ]
  },
  {
   "cell_type": "code",
   "execution_count": null,
   "id": "b7a802b0-b573-4869-b603-78bc6cf4bc4b",
   "metadata": {},
   "outputs": [],
   "source": []
  }
 ],
 "metadata": {
  "kernelspec": {
   "display_name": "Python 3 (ipykernel)",
   "language": "python",
   "name": "python3"
  },
  "language_info": {
   "codemirror_mode": {
    "name": "ipython",
    "version": 3
   },
   "file_extension": ".py",
   "mimetype": "text/x-python",
   "name": "python",
   "nbconvert_exporter": "python",
   "pygments_lexer": "ipython3",
   "version": "3.8.10"
  }
 },
 "nbformat": 4,
 "nbformat_minor": 5
}
