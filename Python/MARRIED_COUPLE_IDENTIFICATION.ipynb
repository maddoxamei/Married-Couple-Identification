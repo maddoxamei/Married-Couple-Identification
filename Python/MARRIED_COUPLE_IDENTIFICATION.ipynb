{
 "cells": [
  {
   "cell_type": "markdown",
   "id": "b5bec52e-954a-47f6-8e70-6cd2c1ac137c",
   "metadata": {},
   "source": [
    "# Load and Clean the Data"
   ]
  },
  {
   "cell_type": "code",
   "execution_count": 1,
   "id": "c0eb7a6d-276d-47b2-9715-1c18ba0f03da",
   "metadata": {},
   "outputs": [
    {
     "name": "stdout",
     "output_type": "stream",
     "text": [
      "E    52268\n",
      "K    13372\n",
      "Name: customer_gender, dtype: int64\n"
     ]
    }
   ],
   "source": [
    "%run ./preprocessing.ipynb"
   ]
  },
  {
   "cell_type": "code",
   "execution_count": 2,
   "id": "d028da46-461d-4316-85d0-319f9333a374",
   "metadata": {},
   "outputs": [
    {
     "data": {
      "text/plain": [
       "((52268, 42), (13372, 42))"
      ]
     },
     "execution_count": 2,
     "metadata": {},
     "output_type": "execute_result"
    }
   ],
   "source": [
    "df_male.shape, df_female.shape"
   ]
  },
  {
   "cell_type": "markdown",
   "id": "8846cc2a-d0fb-410a-8506-eb9d179362e5",
   "metadata": {},
   "source": [
    "# Self-Supervised Similarity Measure"
   ]
  },
  {
   "cell_type": "code",
   "execution_count": 7,
   "id": "cb6e3a2b-2b7a-421e-9760-cf9813629416",
   "metadata": {},
   "outputs": [
    {
     "name": "stdout",
     "output_type": "stream",
     "text": [
      "E    52268\n",
      "K    13372\n",
      "Name: customer_gender, dtype: int64\n",
      "Model: \"autoencoder_2\"\n",
      "_________________________________________________________________\n",
      " Layer (type)                Output Shape              Param #   \n",
      "=================================================================\n",
      " encoder_2 (Encoder)         multiple                  1388      \n",
      "                                                                 \n",
      " decoder (Decoder)           multiple                  439       \n",
      "                                                                 \n",
      "=================================================================\n",
      "Total params: 1,827\n",
      "Trainable params: 1,827\n",
      "Non-trainable params: 0\n",
      "_________________________________________________________________\n",
      "Model: \"autoencoder_3\"\n",
      "_________________________________________________________________\n",
      " Layer (type)                Output Shape              Param #   \n",
      "=================================================================\n",
      " encoder_3 (Encoder)         multiple                  1388      \n",
      "                                                                 \n",
      " decoder (Decoder)           multiple                  439       \n",
      "                                                                 \n",
      "=================================================================\n",
      "Total params: 1,827\n",
      "Trainable params: 1,827\n",
      "Non-trainable params: 0\n",
      "_________________________________________________________________\n",
      "Evaluation Loss (Male):\n",
      "\t 1.4774503707885742\n",
      "Evaluation Loss (Female):\n",
      "\t 1.738946795463562\n"
     ]
    }
   ],
   "source": [
    "%run ./similarity.ipynb"
   ]
  },
  {
   "cell_type": "code",
   "execution_count": null,
   "id": "c4b15265-2fd2-4902-9b18-7be04c347fc8",
   "metadata": {},
   "outputs": [],
   "source": []
  }
 ],
 "metadata": {
  "kernelspec": {
   "display_name": "Python 3 (ipykernel)",
   "language": "python",
   "name": "python3"
  },
  "language_info": {
   "codemirror_mode": {
    "name": "ipython",
    "version": 3
   },
   "file_extension": ".py",
   "mimetype": "text/x-python",
   "name": "python",
   "nbconvert_exporter": "python",
   "pygments_lexer": "ipython3",
   "version": "3.8.10"
  }
 },
 "nbformat": 4,
 "nbformat_minor": 5
}
