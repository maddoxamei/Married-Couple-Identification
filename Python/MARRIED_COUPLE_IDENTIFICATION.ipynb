{
 "cells": [
  {
   "cell_type": "markdown",
   "id": "b5bec52e-954a-47f6-8e70-6cd2c1ac137c",
   "metadata": {},
   "source": [
    "# Load and Clean the Data"
   ]
  },
  {
   "cell_type": "code",
   "execution_count": 15,
   "id": "c0eb7a6d-276d-47b2-9715-1c18ba0f03da",
   "metadata": {},
   "outputs": [
    {
     "name": "stdout",
     "output_type": "stream",
     "text": [
      "E    52268\n",
      "K    13372\n",
      "Name: customer_gender, dtype: int64\n"
     ]
    }
   ],
   "source": [
    "%run ./preprocessing.ipynb"
   ]
  },
  {
   "cell_type": "code",
   "execution_count": 16,
   "id": "05e1047e-74fb-432a-b710-84a24140c85f",
   "metadata": {},
   "outputs": [
    {
     "data": {
      "text/plain": [
       "((36587, 42), (5227, 42), (10454, 42))"
      ]
     },
     "execution_count": 16,
     "metadata": {},
     "output_type": "execute_result"
    }
   ],
   "source": [
    "trainset_male, valset_male, evalset_male = dataset_splits(df_male)\n",
    "trainset_male.shape, valset_male.shape, evalset_male.shape"
   ]
  },
  {
   "cell_type": "code",
   "execution_count": 17,
   "id": "0877cc81-c38d-48c6-9fe9-e00deca341fd",
   "metadata": {},
   "outputs": [
    {
     "data": {
      "text/plain": [
       "((9360, 42), (1337, 42), (2675, 42))"
      ]
     },
     "execution_count": 17,
     "metadata": {},
     "output_type": "execute_result"
    }
   ],
   "source": [
    "trainset_female, valset_female, evalset_female = dataset_splits(df_female)\n",
    "trainset_female.shape, valset_female.shape, evalset_female.shape"
   ]
  },
  {
   "cell_type": "markdown",
   "id": "8846cc2a-d0fb-410a-8506-eb9d179362e5",
   "metadata": {},
   "source": [
    "# Self-Supervised Similarity Measure"
   ]
  },
  {
   "cell_type": "code",
   "execution_count": 19,
   "id": "85717ad0-2539-431c-958f-4f7ff2bed34d",
   "metadata": {},
   "outputs": [
    {
     "name": "stdout",
     "output_type": "stream",
     "text": [
      "cannot import name 'linear_sum_assignment' from 'scipy.sparse.csgraph' (/home/mmaddox/.local/lib/python3.8/site-packages/scipy/sparse/csgraph/__init__.py)\n",
      "name 'linear_sum_assignment' is not defined\n",
      "Welcome to the CBC MILP Solver \n",
      "Version: 2.10.3 \n",
      "Build Date: Dec 15 2019 \n",
      "\n",
      "command line - /home/mmaddox/.local/lib/python3.8/site-packages/pulp/apis/../solverdir/cbc/linux/64/cbc /tmp/1840fb884be34b399af112ee256325d5-pulp.mps max timeMode elapsed branch printingOptions all solution /tmp/1840fb884be34b399af112ee256325d5-pulp.sol (default strategy 1)\n",
      "At line 2 NAME          MODEL\n",
      "At line 3 ROWS\n",
      "At line 10005 COLUMNS\n",
      "At line 30206 RHS\n",
      "At line 40207 BOUNDS\n",
      "At line 40408 ENDATA\n",
      "Problem MODEL has 10000 rows, 200 columns and 20000 elements\n",
      "Coin0008I MODEL read with 0 errors\n",
      "Option for timeMode changed from cpu to elapsed\n",
      "Presolve 10000 (0) rows, 200 (0) columns and 20000 (0) elements\n",
      "Perturbing problem by 0.001% of 1 - largest nonzero change 0 ( 0%) - largest zero change 0\n",
      "0  Obj -0 Dual inf 1.99998 (200) w.o. free dual inf (0)\n",
      "0  Obj -0 Dual inf 1.99998 (200) w.o. free dual inf (0)\n",
      "275  Obj 9.5357518 Dual inf 34.999997 (29)\n",
      "317  Obj 9.8325997\n",
      "Optimal - objective value 9.8325997\n",
      "Optimal objective 9.832599674 - 317 iterations time 0.032\n",
      "Option for printingOptions changed from normal to all\n",
      "Total time (CPU seconds):       0.06   (Wallclock seconds):       0.07\n",
      "\n",
      "Status:\t Optimal\n",
      "Objective Value:\t 9.832599700800001\n"
     ]
    }
   ],
   "source": [
    "%run ./matching_algorithm.ipynb"
   ]
  },
  {
   "cell_type": "code",
   "execution_count": null,
   "id": "bd0e82f8-fd98-4d4e-a003-a89b86aa3e5e",
   "metadata": {},
   "outputs": [],
   "source": []
  }
 ],
 "metadata": {
  "kernelspec": {
   "display_name": "Python 3 (ipykernel)",
   "language": "python",
   "name": "python3"
  },
  "language_info": {
   "codemirror_mode": {
    "name": "ipython",
    "version": 3
   },
   "file_extension": ".py",
   "mimetype": "text/x-python",
   "name": "python",
   "nbconvert_exporter": "python",
   "pygments_lexer": "ipython3",
   "version": "3.8.10"
  }
 },
 "nbformat": 4,
 "nbformat_minor": 5
}
