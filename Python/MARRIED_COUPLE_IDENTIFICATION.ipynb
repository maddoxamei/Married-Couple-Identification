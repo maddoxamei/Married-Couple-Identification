{
 "cells": [
  {
   "cell_type": "markdown",
   "id": "b5bec52e-954a-47f6-8e70-6cd2c1ac137c",
   "metadata": {},
   "source": [
    "# Load and Clean the Data"
   ]
  },
  {
   "cell_type": "code",
   "execution_count": 1,
   "id": "c0eb7a6d-276d-47b2-9715-1c18ba0f03da",
   "metadata": {},
   "outputs": [
    {
     "name": "stdout",
     "output_type": "stream",
     "text": [
      "E    52268\n",
      "K    13372\n",
      "Name: customer_gender, dtype: int64\n"
     ]
    }
   ],
   "source": [
    "%run ./preprocessing.ipynb"
   ]
  },
  {
   "cell_type": "code",
   "execution_count": 2,
   "id": "d028da46-461d-4316-85d0-319f9333a374",
   "metadata": {},
   "outputs": [
    {
     "data": {
      "text/plain": [
       "((52268, 42), (13372, 42))"
      ]
     },
     "execution_count": 2,
     "metadata": {},
     "output_type": "execute_result"
    }
   ],
   "source": [
    "df_male.shape, df_female.shape"
   ]
  },
  {
   "cell_type": "markdown",
   "id": "8846cc2a-d0fb-410a-8506-eb9d179362e5",
   "metadata": {},
   "source": [
    "# Self-Supervised Similarity Measure"
   ]
  },
  {
   "cell_type": "code",
   "execution_count": 3,
   "id": "cb6e3a2b-2b7a-421e-9760-cf9813629416",
   "metadata": {},
   "outputs": [
    {
     "name": "stdout",
     "output_type": "stream",
     "text": [
      "E    52268\n",
      "K    13372\n",
      "Name: customer_gender, dtype: int64\n"
     ]
    },
    {
     "name": "stderr",
     "output_type": "stream",
     "text": [
      "2022-05-09 19:18:53.853022: W tensorflow/stream_executor/platform/default/dso_loader.cc:64] Could not load dynamic library 'libcudnn.so.8'; dlerror: libcudnn.so.8: cannot open shared object file: No such file or directory\n",
      "2022-05-09 19:18:53.853079: W tensorflow/core/common_runtime/gpu/gpu_device.cc:1850] Cannot dlopen some GPU libraries. Please make sure the missing libraries mentioned above are installed properly if you would like to use GPU. Follow the guide at https://www.tensorflow.org/install/gpu for how to download and setup the required libraries for your platform.\n",
      "Skipping registering GPU devices...\n",
      "2022-05-09 19:18:53.877816: I tensorflow/core/platform/cpu_feature_guard.cc:151] This TensorFlow binary is optimized with oneAPI Deep Neural Network Library (oneDNN) to use the following CPU instructions in performance-critical operations:  AVX2 AVX512F FMA\n",
      "To enable them in other operations, rebuild TensorFlow with the appropriate compiler flags.\n"
     ]
    },
    {
     "name": "stdout",
     "output_type": "stream",
     "text": [
      "Model: \"autoencoder_2\"\n",
      "_________________________________________________________________\n",
      " Layer (type)                Output Shape              Param #   \n",
      "=================================================================\n",
      " encoder_2 (Encoder)         multiple                  1388      \n",
      "                                                                 \n",
      " decoder (Decoder)           multiple                  439       \n",
      "                                                                 \n",
      "=================================================================\n",
      "Total params: 1,827\n",
      "Trainable params: 1,827\n",
      "Non-trainable params: 0\n",
      "_________________________________________________________________\n",
      "Model: \"autoencoder_3\"\n",
      "_________________________________________________________________\n",
      " Layer (type)                Output Shape              Param #   \n",
      "=================================================================\n",
      " encoder_3 (Encoder)         multiple                  1388      \n",
      "                                                                 \n",
      " decoder (Decoder)           multiple                  439       \n",
      "                                                                 \n",
      "=================================================================\n",
      "Total params: 1,827\n",
      "Trainable params: 1,827\n",
      "Non-trainable params: 0\n",
      "_________________________________________________________________\n",
      "Evaluation Loss (Male):\n",
      "\t 1.4366179704666138\n",
      "Evaluation Loss (Female):\n",
      "\t 1.562905192375183\n"
     ]
    }
   ],
   "source": [
    "%run ./similarity.ipynb"
   ]
  },
  {
   "cell_type": "markdown",
   "id": "1269a351-3f07-4c18-9387-9cd2631cac58",
   "metadata": {},
   "source": [
    "# Matching Algorithm"
   ]
  },
  {
   "cell_type": "code",
   "execution_count": 4,
   "id": "39d4c498-9a63-4e86-ad97-094f78ad8b84",
   "metadata": {},
   "outputs": [
    {
     "name": "stdout",
     "output_type": "stream",
     "text": [
      "cannot import name 'linear_sum_assignment' from 'scipy.sparse.csgraph' (/home/mmaddox/.local/lib/python3.8/site-packages/scipy/sparse/csgraph/__init__.py)\n",
      "name 'linear_sum_assignment' is not defined\n"
     ]
    }
   ],
   "source": [
    "%run ./matching_algorithm.ipynb"
   ]
  },
  {
   "cell_type": "code",
   "execution_count": 7,
   "id": "101315c8-89fe-4c9d-bc6d-502b3745db6d",
   "metadata": {},
   "outputs": [],
   "source": [
    "def progressbar(it, prefix=\"\", size=60, file=sys.stdout):\n",
    "    \"\"\" Create a visualization of a progress bar updates according to completion status\n",
    "    :param it: job you are trying to create a progress bar for\n",
    "    :type obj (sequence or collection)\n",
    "    :param prefix: The text to display to the left of the status bar\n",
    "    :type str\n",
    "    :param size: total length of the progress bar\n",
    "    :type int\n",
    "    :param file: what to display/write the progress bar to\n",
    "    :type output stream\n",
    "    :return: job you are trying to create a progress bar for\n",
    "    :rtype: obj (sequence or collection)\n",
    "    \"\"\"\n",
    "    count = len(it)\n",
    "    def show(j):\n",
    "        x = int(size*j/count)\n",
    "        file.write(\"%s[%s%s] %i/%i\\r\" % (prefix, \"#\"*x, \".\"*(size-x), j, count))\n",
    "        file.flush()        \n",
    "    show(0)\n",
    "    for i, item in enumerate(it):\n",
    "        yield item\n",
    "        show(i+1)\n",
    "    file.write(\"\\n\")\n",
    "    file.flush()"
   ]
  },
  {
   "cell_type": "code",
   "execution_count": null,
   "id": "c4b15265-2fd2-4902-9b18-7be04c347fc8",
   "metadata": {},
   "outputs": [
    {
     "name": "stdout",
     "output_type": "stream",
     "text": [
      "Welcome to the CBC MILP Solver \n",
      "Version: 2.10.3 \n",
      "Build Date: Dec 15 2019 \n",
      "\n",
      "command line - /home/mmaddox/.local/lib/python3.8/site-packages/pulp/apis/../solverdir/cbc/linux/64/cbc /tmp/a66b3c4e4d6b410293972b2ab2615cfe-pulp.mps timeMode elapsed branch printingOptions all solution /tmp/a66b3c4e4d6b410293972b2ab2615cfe-pulp.sol (default strategy 1)\n",
      "At line 2 NAME          MODEL\n",
      "At line 3 ROWS\n",
      "At line 3005 COLUMNS\n",
      "At line 6003006 RHS\n",
      "At line 6006007 BOUNDS\n",
      "At line 7006008 ENDATA\n",
      "Problem MODEL has 3000 rows, 1000000 columns and 3000000 elements\n",
      "Coin0008I MODEL read with 0 errors\n",
      "Option for timeMode changed from cpu to elapsed\n",
      "Continuous objective value is 15144.8 - 21.79 seconds\n",
      "Cgl0004I processed model has 2000 rows, 1000000 columns (1000000 integer (1000000 of which binary)) and 2000000 elements\n",
      "Cbc0038I Initial state - 0 integers unsatisfied sum - 0\n",
      "Cbc0038I Solution found of 15144.8\n",
      "Cbc0038I Before mini branch and bound, 1000000 integers at bound fixed and 0 continuous\n",
      "Cbc0038I Mini branch and bound did not improve solution (74.37 seconds)\n",
      "Cbc0038I After 74.40 seconds - Feasibility pump exiting with objective of 15144.8 - took 1.04 seconds\n",
      "Cbc0012I Integer solution of 15144.776 found by feasibility pump after 0 iterations and 0 nodes (74.56 seconds)\n",
      "Cbc0001I Search completed - best objective 15144.77554498926, took 0 iterations and 0 nodes (74.84 seconds)\n",
      "Cbc0035I Maximum depth 0, 0 variables fixed on reduced cost\n",
      "Cuts at root node changed objective from 15144.8 to 15144.8\n",
      "Probing was tried 0 times and created 0 cuts of which 0 were active after adding rounds of cuts (0.000 seconds)\n",
      "Gomory was tried 0 times and created 0 cuts of which 0 were active after adding rounds of cuts (0.000 seconds)\n",
      "Knapsack was tried 0 times and created 0 cuts of which 0 were active after adding rounds of cuts (0.000 seconds)\n",
      "Clique was tried 0 times and created 0 cuts of which 0 were active after adding rounds of cuts (0.000 seconds)\n",
      "MixedIntegerRounding2 was tried 0 times and created 0 cuts of which 0 were active after adding rounds of cuts (0.000 seconds)\n",
      "FlowCover was tried 0 times and created 0 cuts of which 0 were active after adding rounds of cuts (0.000 seconds)\n",
      "TwoMirCuts was tried 0 times and created 0 cuts of which 0 were active after adding rounds of cuts (0.000 seconds)\n",
      "ZeroHalf was tried 0 times and created 0 cuts of which 0 were active after adding rounds of cuts (0.000 seconds)\n",
      "\n",
      "Result - Optimal solution found\n",
      "\n",
      "Objective value:                15144.77554499\n",
      "Enumerated nodes:               0\n",
      "Total iterations:               0\n",
      "Time (CPU seconds):             74.26\n",
      "Time (Wallclock seconds):       76.47\n",
      "\n",
      "Option for printingOptions changed from normal to all\n",
      "Total time (CPU seconds):       77.61   (Wallclock seconds):       80.08\n",
      "\n"
     ]
    }
   ],
   "source": [
    "from pulp import LpVariable, LpProblem, LpMinimize, value, lpSum, LpBinary, LpStatus\n",
    "\n",
    "def hungarian_method(matrix_a, matrix_b):\n",
    "    print('Calculating distance')\n",
    "    dist = cdist(matrix_a, matrix_b, 'euclidean') # (matrix_a.shape[0], matrix_b.shape[0])\n",
    "    \n",
    "    print('Starting algorithm')\n",
    "    prob = LpProblem(\"Matching\", LpMinimize)\n",
    "    \n",
    "    variable_names = [str(i)+','+str(j) for i in range(matrix_a.shape[0]) for j in range(matrix_b.shape[0])]\n",
    "    variable_names.sort()\n",
    "    \n",
    "    relations = LpVariable.matrix(\"X\", variable_names, cat = \"Binary\")\n",
    "    allocation = np.array(relations).reshape(matrix_a.shape[0],matrix_b.shape[0])\n",
    "    \n",
    "    prob += lpSum(allocation*dist)\n",
    "    for i in progressbar(range(matrix_a.shape[0])):\n",
    "        prob += lpSum([allocation[i,j] for j in range(matrix_b.shape[0])]) == 1\n",
    "        prob += lpSum([allocation[j,i] for j in range(matrix_a.shape[0])]) == 1\n",
    "        prob += lpSum(allocation[i,j] for j in range(matrix_b.shape[0])) >= 0\n",
    "    \n",
    "    \n",
    "    prob.writeLP(\"matching_prob.lp\")\n",
    "    prob.solve()\n",
    "    \n",
    "    print( 'Status:\\t', LpStatus[prob.status] )\n",
    "    print( 'Objective Value:\\t', prob.objective.value() )\n",
    "    \n",
    "    print(matrix_a.index)\n",
    "    \n",
    "    matrix_b_indices = np.array([matrix_b.index[int(v.name.split(',')[-1])] for v in prob.variables() if bool(v.value())])\n",
    "    pd.DataFrame(np.dstack([matrix_a.index.values, matrix_b_indices]).reshape(matrix_a.shape[0], -1)).to_csv(os.path.join(data_path, 'matches-sample.csv'), index = False)"
   ]
  },
  {
   "cell_type": "code",
   "execution_count": 113,
   "id": "7ff1c314-4dc2-44d6-9cf2-0746dfcc4673",
   "metadata": {},
   "outputs": [
    {
     "name": "stdout",
     "output_type": "stream",
     "text": [
      "Calculating distance\n",
      "Starting algorithm\n",
      "[############################################################] 1000/1000\n"
     ]
    },
    {
     "name": "stderr",
     "output_type": "stream",
     "text": [
      "\n",
      "KeyboardInterrupt\n",
      "\n"
     ]
    }
   ],
   "source": [
    "encoded_sample_males = encoded_males.sample(1000)\n",
    "encoded_sample_females = encoded_females.sample(1000)\n",
    "\n",
    "hungarian_method(encoded_sample_males, encoded_sample_females)"
   ]
  },
  {
   "cell_type": "code",
   "execution_count": null,
   "id": "dc39f14a-82aa-4672-9c18-44f41dd16381",
   "metadata": {},
   "outputs": [],
   "source": []
  },
  {
   "cell_type": "code",
   "execution_count": null,
   "id": "ca94b283-a4ca-4f19-8aa3-9b6d64702e9d",
   "metadata": {},
   "outputs": [],
   "source": []
  }
 ],
 "metadata": {
  "kernelspec": {
   "display_name": "Python 3 (ipykernel)",
   "language": "python",
   "name": "python3"
  },
  "language_info": {
   "codemirror_mode": {
    "name": "ipython",
    "version": 3
   },
   "file_extension": ".py",
   "mimetype": "text/x-python",
   "name": "python",
   "nbconvert_exporter": "python",
   "pygments_lexer": "ipython3",
   "version": "3.8.10"
  }
 },
 "nbformat": 4,
 "nbformat_minor": 5
}
