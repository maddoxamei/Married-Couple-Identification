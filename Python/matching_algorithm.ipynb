{
 "cells": [
  {
   "cell_type": "code",
   "execution_count": 2,
   "metadata": {},
   "outputs": [],
   "source": [
    "import numpy as np\n",
    "from itertools import product, permutations\n",
    "from scipy.spatial.distance import cdist\n",
    "from scipy.optimize import linear_sum_assignment\n",
    "from scipy.sparse import csr_matrix\n",
    "import sys"
   ]
  },
  {
   "cell_type": "markdown",
   "metadata": {},
   "source": [
    "# Matched Pairs Problem\n",
    "\n",
    "Stable marriage problem\n",
    "\n",
    "Minimum Weight Euclidean Matching (MWEM) \n",
    "Pefect matching between vectors in one group with another"
   ]
  },
  {
   "cell_type": "markdown",
   "metadata": {},
   "source": [
    "## Weighted bipartite"
   ]
  },
  {
   "cell_type": "code",
   "execution_count": 2,
   "metadata": {},
   "outputs": [
    {
     "data": {
      "text/plain": [
       "array([[ 0,  1,  2,  3],\n",
       "       [10, 11, 12, 13],\n",
       "       [20, 21, 22, 23],\n",
       "       [30, 31, 32, 33],\n",
       "       [40, 41, 42, 43],\n",
       "       [50, 51, 52, 53],\n",
       "       [60, 61, 62, 63]])"
      ]
     },
     "execution_count": 2,
     "metadata": {},
     "output_type": "execute_result"
    }
   ],
   "source": [
    "c = np.array([[0,1,2,3],[10,11,12,13],[20,21,22,23],[30,31,32,33],[40,41,42,43],[50,51,52,53],[60,61,62,63]])\n",
    "c"
   ]
  },
  {
   "cell_type": "code",
   "execution_count": 3,
   "metadata": {},
   "outputs": [],
   "source": [
    "random_m = np.random.rand(500,10)\n",
    "random_f = np.random.rand(500,10)"
   ]
  },
  {
   "cell_type": "code",
   "execution_count": null,
   "metadata": {},
   "outputs": [],
   "source": [
    "matrix_m = np.array(range(6)).reshape(3,2)\n",
    "matrix_f = np.array(range(7,13)).reshape(3,2)\n",
    "\n",
    "print( 'MALE\\n', matrix_m )\n",
    "print( 'FEMALE\\n', matrix_f )"
   ]
  },
  {
   "cell_type": "markdown",
   "metadata": {},
   "source": [
    "Alternative to itertool's permutation function to create $\\frac{n!}{k!(n-k)!}$ matches where k = 2. These pairings eliminate duplicate pairings (i.e. considers 1,2 the same as 2,1). This method was inefficient. DON'T USE."
   ]
  },
  {
   "cell_type": "code",
   "execution_count": null,
   "metadata": {},
   "outputs": [],
   "source": [
    "def cartesian_product( x, y ):\n",
    "    # Faster on smaller datasets (100, 70) but slower on larger datasets (500, 700)\n",
    "    return np.hstack([ np.repeat(x, y.shape[0], axis=0),\n",
    "               np.tile(y, (x.shape[0],1))] ).reshape(-1, 2, x.shape[1])"
   ]
  },
  {
   "cell_type": "markdown",
   "metadata": {},
   "source": [
    "Developed a custom method as the libraries in existance are limited to provide only one matching solution even if there are multiple solutions of equal likelihood. However, this method is not scalable (algorithmically and memory inefficient) and crashes my computer on medium-sized datasets (e.g. two matrices of shape (500, 10))"
   ]
  },
  {
   "cell_type": "code",
   "execution_count": null,
   "metadata": {},
   "outputs": [],
   "source": [
    "def match_pairs_custom(matrix_a, matrix_b):\n",
    "    \"\"\"\n",
    "    return: list of row indices\n",
    "    type: tuple(np.array, range)\n",
    "    \"\"\"\n",
    "    #pairs = np.array(list(product(random_m, random_f))) # as opposed to custom cartesian_product\n",
    "    dist = cdist(matrix_a, matrix_b, 'euclidean')\n",
    "    if dist.shape[0] != dist.shape[1]:\n",
    "        return None\n",
    "    n = dist.shape[0]\n",
    "    combinations = np.array(list(permutations(range(n))))\n",
    "    summation = np.choose(combinations, dist).sum(axis = 1) # Increment through columns and grab rows which corerspond to array\n",
    "    return combinations[np.where(summation == summation.min())] # respective column indices are all range(n)"
   ]
  },
  {
   "cell_type": "raw",
   "metadata": {},
   "source": [
    "for combination in match_pairs_custom(random_m[:3], random_f[:3]):\n",
    "    print( np.stack([combination, range(random_m[:3].shape[0])], axis = -1) )"
   ]
  },
  {
   "cell_type": "markdown",
   "metadata": {},
   "source": [
    "[Scipy documentation](https://docs.scipy.org/doc/scipy/reference/generated/scipy.sparse.csgraph.min_weight_full_bipartite_matching.html) recommends linear sum assignment over minimized bipartite matchign as it is faster for dense graphs (which we have)"
   ]
  },
  {
   "cell_type": "code",
   "execution_count": 4,
   "metadata": {},
   "outputs": [],
   "source": [
    "def match_pairs( matrix_a, matrix_b ):\n",
    "    \"\"\"\n",
    "    Determine the most optimal unique pairings between observations in matrix a with matrix b.\n",
    "    \n",
    "    @param: matrix_a:\n",
    "    @type: np.array\n",
    "    @param: matrix_b\n",
    "    @type: np.array\n",
    "    @return: tuple of row indicies indicating pairings (matrix_a index order, matrix_b index order) \n",
    "    @type: tuple(np.array, np.array)\n",
    "    \"\"\"\n",
    "    dist = cdist(matrix_a, matrix_b, 'euclidean')\n",
    "    return linear_sum_assignment(dist)"
   ]
  },
  {
   "cell_type": "markdown",
   "metadata": {},
   "source": [
    "[Hopcroft-Karp Algorithm](https://en.m.wikipedia.org/wiki/Hopcroft–Karp_algorithm)\n",
    "\n",
    "$min(\\sum_{i,j}d_{ij}x_{ij})\\Longrightarrow O(E{\\sqrt V})\\approx O(V^\\frac{3}{2})$ \n",
    "\n",
    "where $d_{ij}=distance~btw~V_i~and~V_j,$\n",
    "\n",
    "$x_{ij}=\\left\\{\\begin{matrix}1, & edge~belongs~to~matching \\\\ 0, & otherwise \\end{matrix}\\right.$\n",
    "\n",
    "**Constraints**\n",
    "\n",
    "1) Person $j$ paired with only one person from the other group: $\\sum_jx_{ij}=1~for~1\\le i\\le n$\n",
    "\n",
    "2) Person $i$ paired with only one person from the other group: $\\sum_ix_{ij}=1~for~1\\le j\\le n$\n",
    "\n",
    "3) Pairing between person $i$ and $j$ also means a pairing between $j$ and $i$: $x_{ij}\\ge0 for 1\\le i,j\\le n$"
   ]
  },
  {
   "cell_type": "code",
   "execution_count": null,
   "metadata": {},
   "outputs": [],
   "source": [
    "def match_pairs(matrix_a, matrix_b):\n",
    "    n = matrix_a.shape[0] + matrix_b.shape[0]\n",
    "    \n",
    "    alpha = LpVariable(\"alpha\", 1, n)\n",
    "    beta = LpVariable(\"beta\", 1, n)"
   ]
  },
  {
   "cell_type": "markdown",
   "metadata": {},
   "source": [
    "[A Survey on Algorithms for Euclidean Matching](https://courses.cs.duke.edu/fall08/cps234/projects/sayan_proj.pdf)\n",
    "\n",
    "$O(n^\\frac{3}{2}log(n))$\n",
    "\n",
    "$max(\\sum_i\\alpha_i+\\sum_j\\beta_j)$ subject to $\\alpha_i+\\beta_j\\le d_{ij}$ for $1\\le i,j\\le n$"
   ]
  },
  {
   "cell_type": "markdown",
   "metadata": {},
   "source": [
    "https://towardsdatascience.com/linear-programming-using-python-priyansh-22b5ee888fe0\n",
    "    \n",
    "https://scaron.info/blog/linear-programming-in-python-with-pulp.html\n",
    "        \n",
    "https://towardsdatascience.com/how-to-match-two-people-with-python-7583b51ff3f9\n",
    "            \n",
    "https://medium.com/opex-analytics/optimization-modeling-in-python-pulp-gurobi-and-cplex-83a62129807a"
   ]
  },
  {
   "cell_type": "code",
   "execution_count": 222,
   "metadata": {},
   "outputs": [],
   "source": [
    "from pulp import LpVariable, LpProblem, LpMaximize, value, lpSum\n",
    "\n",
    "def match_pairs(matrix_a, matrix_b):\n",
    "    dist = cdist(matrix_a, matrix_b, 'euclidean') # (matrix_a.shape[0], matrix_b.shape[0])\n",
    "    prob = LpProblem(\"Matching\", LpMaximize)\n",
    "    \n",
    "    variable_names = [str(i)+str(j) for i in range(matrix_a.shape[0]) for j in range(matrix_b.shape[0])]\n",
    "    variable_names.sort()\n",
    "    \n",
    "    DV_variables = LpVariable.matrix( \"X\", variable_names, 1, matrix_a.shape[0], matrix_b.shape[0] )\n",
    "    match = np.array(DV_variables).reshape(2,4)\n",
    "    \n",
    "    \n",
    "    alpha = LpVariable(\"alpha\", 1, n)\n",
    "    beta = LpVariable(\"beta\", 1, n)\n",
    "    \"\"\"for i in range(n):\n",
    "        for j in range(n):\n",
    "            prob += lpSum(alpha[i]) + lpSum(beta[j])\n",
    "            prob += alpha[i] + beta[j] <= np.linalg.norm(alpha[i] - beta[j])\n",
    "    \"\"\"\n",
    "    prob += lpSum(alpha) + lpSum(beta)\n",
    "    prob += alpha + beta <= np.linalg.norm(alpha - beta)\n",
    "    status = prob.solve()\n",
    "    return value(alpha), value(beta)"
   ]
  },
  {
   "cell_type": "markdown",
   "metadata": {},
   "source": [
    "Neither of these package functions were loading correctly. Therefore did math by hand."
   ]
  },
  {
   "cell_type": "markdown",
   "metadata": {},
   "source": [
    "## Non bipartite"
   ]
  }
 ],
 "metadata": {
  "kernelspec": {
   "display_name": "Python 3",
   "language": "python",
   "name": "python3"
  },
  "language_info": {
   "codemirror_mode": {
    "name": "ipython",
    "version": 3
   },
   "file_extension": ".py",
   "mimetype": "text/x-python",
   "name": "python",
   "nbconvert_exporter": "python",
   "pygments_lexer": "ipython3",
   "version": "3.8.6"
  }
 },
 "nbformat": 4,
 "nbformat_minor": 4
}
